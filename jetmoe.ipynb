{
 "cells": [
  {
   "cell_type": "markdown",
   "metadata": {
    "id": "vlTAshDxGxoe"
   },
   "source": [
    "# JetMoE test"
   ]
  },
  {
   "cell_type": "code",
   "execution_count": null,
   "metadata": {
    "id": "6z-zjTcehdWS"
   },
   "outputs": [],
   "source": [
    "! git clone https://github.com/myshell-ai/JetMoE.git"
   ]
  },
  {
   "cell_type": "code",
   "execution_count": null,
   "metadata": {
    "colab": {
     "base_uri": "https://localhost:8080/"
    },
    "id": "eD5J1ihIfVtM",
    "outputId": "d458a4a2-4d6a-4e15-d73b-5dc05ff0735e"
   },
   "outputs": [],
   "source": [
    "%cd JetMoE/"
   ]
  },
  {
   "cell_type": "code",
   "execution_count": null,
   "metadata": {
    "colab": {
     "base_uri": "https://localhost:8080/"
    },
    "id": "B0i6qEy4fquI",
    "outputId": "39113230-69e0-4fb4-c2c5-a354027afe5e"
   },
   "outputs": [],
   "source": [
    "! pip install -e . -qq"
   ]
  },
  {
   "cell_type": "code",
   "execution_count": null,
   "metadata": {
    "id": "VZgSJ7Rt7Xa4"
   },
   "outputs": [],
   "source": [
    "! pip install accelerate -qq"
   ]
  },
  {
   "cell_type": "code",
   "execution_count": null,
   "metadata": {
    "id": "EfYJZBPY7bzY"
   },
   "outputs": [],
   "source": [
    "! pip install -i https://pypi.org/simple/ bitsandbytes -qq"
   ]
  },
  {
   "cell_type": "code",
   "execution_count": null,
   "metadata": {
    "id": "6j8ONsYufVxZ"
   },
   "outputs": [],
   "source": [
    "from transformers import AutoTokenizer, AutoModelForCausalLM, AutoConfig, AutoModelForSequenceClassification, BitsAndBytesConfig\n",
    "from jetmoe import JetMoEForCausalLM, JetMoEConfig, JetMoEForSequenceClassification\n",
    "\n",
    "AutoConfig.register(\"jetmoe\", JetMoEConfig)\n",
    "AutoModelForCausalLM.register(JetMoEConfig, JetMoEForCausalLM)\n",
    "AutoModelForSequenceClassification.register(JetMoEConfig, JetMoEForSequenceClassification)\n",
    "\n",
    "\n",
    "quantization_config = BitsAndBytesConfig(load_in_8bit=True)\n",
    "\n",
    "tokenizer = AutoTokenizer.from_pretrained('jetmoe/jetmoe-8b')\n",
    "model = AutoModelForCausalLM.from_pretrained('jetmoe/jetmoe-8b',\n",
    "                                             device_map='auto',\n",
    "                                             quantization_config=quantization_config)"
   ]
  },
  {
   "cell_type": "code",
   "execution_count": null,
   "metadata": {
    "id": "OpI2G0ts4sXM"
   },
   "outputs": [],
   "source": [
    "prompt = 'State Newton\\'s laws of motion and give some examples'"
   ]
  },
  {
   "cell_type": "code",
   "execution_count": null,
   "metadata": {
    "id": "IEHpRmD-6FPd"
   },
   "outputs": [],
   "source": [
    "inputs = tokenizer(\n",
    "    prompt,\n",
    "    return_tensors='pt',\n",
    "    return_attention_mask=False\n",
    ")\n",
    "\n",
    "inputs = inputs.to('cuda')"
   ]
  },
  {
   "cell_type": "code",
   "execution_count": null,
   "metadata": {
    "id": "zDfAiwws6WwQ"
   },
   "outputs": [],
   "source": [
    "outputs = model.generate(\n",
    "    **inputs,\n",
    "    max_length=200,\n",
    "    pad_token_id=tokenizer.eos_token_id)"
   ]
  },
  {
   "cell_type": "code",
   "execution_count": null,
   "metadata": {
    "id": "VEUXBFHx6nhd"
   },
   "outputs": [],
   "source": [
    "text = tokenizer.batch_decode(outputs)[0]"
   ]
  },
  {
   "cell_type": "code",
   "execution_count": null,
   "metadata": {
    "id": "GfRJwBzJ6ynw"
   },
   "outputs": [],
   "source": [
    "print(text[len(prompt):])"
   ]
  }
 ],
 "metadata": {
  "accelerator": "GPU",
  "colab": {
   "gpuType": "T4",
   "provenance": []
  },
  "kernelspec": {
   "display_name": "Python 3 (ipykernel)",
   "language": "python",
   "name": "python3"
  },
  "language_info": {
   "codemirror_mode": {
    "name": "ipython",
    "version": 3
   },
   "file_extension": ".py",
   "mimetype": "text/x-python",
   "name": "python",
   "nbconvert_exporter": "python",
   "pygments_lexer": "ipython3",
   "version": "3.11.7"
  }
 },
 "nbformat": 4,
 "nbformat_minor": 4
}
